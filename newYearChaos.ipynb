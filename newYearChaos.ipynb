{
 "cells": [
  {
   "cell_type": "markdown",
   "metadata": {},
   "source": [
    "This problem is very similar to __Minimum Swaps__, wherein we were tasked with finding the minimum number of swapped items that could sort a given unsorted (1-indexed) array.  There are a number of added wrinkles to the problem, however.  \n",
    "\n",
    "1.  The elements in the array correspond to people standing in a queue.  \n",
    "2.  Any person in queue can bribe the person directly in front of them to swap positions. \n",
    "3.  Each person can bribe at most 2 others.\n",
    "\n",
    "We could probably use our `minimumSwaps` function as a starting point, but I think I'll try to solve this in OOP style."
   ]
  },
  {
   "cell_type": "code",
   "execution_count": 43,
   "metadata": {},
   "outputs": [],
   "source": [
    "class Queue():\n",
    "    \"\"\"A line of people waiting for something.\"\"\"\n",
    "    def __init__(self, people):\n",
    "        self.people = list(people)\n",
    "\n",
    "    def swap(self, i, j):\n",
    "        \"\"\"Swaps Person i with Person j\"\"\"\n",
    "        if self.people[j].can_bribe():\n",
    "            self.people[j].bribes_made += 1\n",
    "            self.people[i], self.people[j] = self.people[j], self.people[i]\n",
    "            \n",
    "        \n",
    "    def __repr__(self):\n",
    "        return str(self.people)\n",
    "    \n",
    "    __str__ = __repr__\n",
    "    \n",
    "    \n",
    "class Person():\n",
    "    \"\"\"A person standing in this peculiar queue.\"\"\"\n",
    "    def __init__(self, number):\n",
    "        self.number = number     # self.number never changes\n",
    "        self.pos = number        # self.pos may change\n",
    "        \n",
    "        self.bribes_made = 0     \n",
    "        \n",
    "    def can_bribe(self):\n",
    "        return self.bribes_made < 2\n",
    "    \n",
    "    def __repr__(self):\n",
    "        return 'Person({})'.format(self.number)\n",
    "    \n",
    "    __str__ = __repr__"
   ]
  },
  {
   "cell_type": "code",
   "execution_count": 44,
   "metadata": {},
   "outputs": [
    {
     "data": {
      "text/plain": [
       "[Person(1), Person(2), Person(3), Person(4), Person(5), Person(6)]"
      ]
     },
     "execution_count": 44,
     "metadata": {},
     "output_type": "execute_result"
    }
   ],
   "source": [
    "people = [Person(i) for i in range(1,7)]\n",
    "people"
   ]
  },
  {
   "cell_type": "code",
   "execution_count": 45,
   "metadata": {},
   "outputs": [
    {
     "name": "stdout",
     "output_type": "stream",
     "text": [
      "0\n",
      "0\n",
      "0\n",
      "0\n",
      "0\n",
      "0\n"
     ]
    }
   ],
   "source": [
    "for person in people:\n",
    "    print(person.bribes_made)"
   ]
  },
  {
   "cell_type": "code",
   "execution_count": 46,
   "metadata": {},
   "outputs": [
    {
     "data": {
      "text/plain": [
       "[Person(1), Person(2), Person(3), Person(4), Person(5), Person(6)]"
      ]
     },
     "execution_count": 46,
     "metadata": {},
     "output_type": "execute_result"
    }
   ],
   "source": [
    "Q = Queue(people)\n",
    "Q"
   ]
  },
  {
   "cell_type": "code",
   "execution_count": 47,
   "metadata": {},
   "outputs": [
    {
     "data": {
      "text/plain": [
       "[Person(1), Person(2), Person(3), Person(5), Person(4), Person(6)]"
      ]
     },
     "execution_count": 47,
     "metadata": {},
     "output_type": "execute_result"
    }
   ],
   "source": [
    "Q.swap(3, 4)\n",
    "Q"
   ]
  },
  {
   "cell_type": "code",
   "execution_count": 48,
   "metadata": {},
   "outputs": [
    {
     "name": "stdout",
     "output_type": "stream",
     "text": [
      "Person(1) has made 0 bribes\n",
      "Person(2) has made 0 bribes\n",
      "Person(3) has made 0 bribes\n",
      "Person(5) has made 1 bribes\n",
      "Person(4) has made 0 bribes\n",
      "Person(6) has made 0 bribes\n"
     ]
    }
   ],
   "source": [
    "for person in Q.people:\n",
    "    print(\"{} has made {} bribes\".format(person, person.bribes_made))"
   ]
  },
  {
   "cell_type": "code",
   "execution_count": 49,
   "metadata": {},
   "outputs": [],
   "source": [
    "Q.swap(2,3)"
   ]
  },
  {
   "cell_type": "code",
   "execution_count": 50,
   "metadata": {},
   "outputs": [
    {
     "name": "stdout",
     "output_type": "stream",
     "text": [
      "Person(1) has made 0 bribes\n",
      "Person(2) has made 0 bribes\n",
      "Person(5) has made 2 bribes\n",
      "Person(3) has made 0 bribes\n",
      "Person(4) has made 0 bribes\n",
      "Person(6) has made 0 bribes\n"
     ]
    }
   ],
   "source": [
    "for person in Q.people:\n",
    "    print(\"{} has made {} bribes\".format(person, person.bribes_made))"
   ]
  },
  {
   "cell_type": "code",
   "execution_count": 51,
   "metadata": {},
   "outputs": [],
   "source": [
    "Q.swap(1,2)"
   ]
  },
  {
   "cell_type": "code",
   "execution_count": 52,
   "metadata": {},
   "outputs": [
    {
     "name": "stdout",
     "output_type": "stream",
     "text": [
      "Person(1) has made 0 bribes\n",
      "Person(2) has made 0 bribes\n",
      "Person(5) has made 2 bribes\n",
      "Person(3) has made 0 bribes\n",
      "Person(4) has made 0 bribes\n",
      "Person(6) has made 0 bribes\n"
     ]
    }
   ],
   "source": [
    "# As desired, once a person has made 2 bribes, no more can be made.\n",
    "\n",
    "for person in Q.people:\n",
    "    print(\"{} has made {} bribes\".format(person, person.bribes_made))"
   ]
  },
  {
   "cell_type": "markdown",
   "metadata": {},
   "source": [
    "This is a good start.  Our queue is 0-indexed, but we can probably work around that.  But how to find the minimum number of swaps required?\n",
    "\n",
    "Well, a solution comes to mind that again makes no use of my OOP scaffolding!  We basically just need to use our old `minimumSwaps` function, with the proviso that should we find that any elements are more than 2 places in front of their initial position, we return 'Too chaotic'.  We can accomplish this in $O(n)$ time at the outset by simply iterating through the given array looking for elements that are too far removed."
   ]
  },
  {
   "cell_type": "code",
   "execution_count": 53,
   "metadata": {},
   "outputs": [],
   "source": [
    "def swap(i, j, arr):\n",
    "    arr[i], arr[j] = arr[j], arr[i]\n",
    "    return arr\n",
    "\n",
    "def minimumBribes(arr):\n",
    "    \"\"\"Returns minimum number of swaps required to sort arr.\"\"\"\n",
    "    \n",
    "    # our bribe-cap sentry\n",
    "    for a in arr:\n",
    "        if a - (arr.index(a)+1) > 2:\n",
    "            return 'Too chaotic'\n",
    "    \n",
    "    swaps = 0\n",
    "    places = {a:i for i, a in enumerate(arr)} \n",
    "    \n",
    "    for i, a in enumerate(arr):\n",
    "        \n",
    "        if arr[i] == i+1:\n",
    "            pass\n",
    "            \n",
    "        else:\n",
    "            j = places[i+1]\n",
    "            swap(i, j, arr)\n",
    "            places[arr[j]] = j\n",
    "            swaps += 1\n",
    "        \n",
    "    return swaps"
   ]
  },
  {
   "cell_type": "code",
   "execution_count": 54,
   "metadata": {},
   "outputs": [],
   "source": [
    "test1 = [2,1,5,3,4]\n",
    "test2 = [2,5,1,3,4]"
   ]
  },
  {
   "cell_type": "code",
   "execution_count": 55,
   "metadata": {},
   "outputs": [
    {
     "name": "stdout",
     "output_type": "stream",
     "text": [
      "3\n",
      "Too chaotic\n"
     ]
    }
   ],
   "source": [
    "print(minimumSwaps(test1))\n",
    "print(minimumSwaps(test2))"
   ]
  },
  {
   "cell_type": "markdown",
   "metadata": {},
   "source": [
    "After trying this out in the grader, it seems that not all is well.  Two test cases passing, but this one is failing:"
   ]
  },
  {
   "cell_type": "code",
   "execution_count": 56,
   "metadata": {},
   "outputs": [],
   "source": [
    "arr1 = [5, 1, 2, 3, 7, 8, 6, 4]\n",
    "arr2 = [1, 2, 5, 3, 7, 8, 6, 4]"
   ]
  },
  {
   "cell_type": "code",
   "execution_count": 57,
   "metadata": {},
   "outputs": [
    {
     "name": "stdout",
     "output_type": "stream",
     "text": [
      "Too chaotic\n",
      "5\n"
     ]
    }
   ],
   "source": [
    "print(minimumSwaps(arr1))\n",
    "print(minimumSwaps(arr2))"
   ]
  },
  {
   "cell_type": "markdown",
   "metadata": {},
   "source": [
    "The answer for `arr1` is correct, but the other apparently you be 7, rather than 5.  After thinking a bit more I made the mistake of reading in the discussion forums this brilliant hack.  Pretty much everything I've done so far is unnecessary.  All we must do is\n",
    "\n",
    "```\n",
    "total_bribes = 0   # 1 bribe <=> 1 swap\n",
    "for a in array\n",
    "    if a - (array.index(a) + 1) > 2\n",
    "        return 'Too chaotic'\n",
    "    total_bribes += (array.index(a) + 1) - a\n",
    "return total_bribes\n",
    "```\n",
    "     "
   ]
  },
  {
   "cell_type": "markdown",
   "metadata": {},
   "source": [
    "But how to count the number of times an person has been bribed?  My initial thought was to simply take the difference between the person's number and his/her final position:"
   ]
  },
  {
   "cell_type": "code",
   "execution_count": 58,
   "metadata": {},
   "outputs": [
    {
     "name": "stdout",
     "output_type": "stream",
     "text": [
      "6\n"
     ]
    }
   ],
   "source": [
    "arr2 = [1, 2, 5, 3, 7, 8, 6, 4]\n",
    "\n",
    "bribes = 0\n",
    "for a in arr2:\n",
    "    dist = a - (arr2.index(a) + 1)\n",
    "    if dist < 0:\n",
    "        bribes += abs(dist) \n",
    "    \n",
    "print(bribes)\n"
   ]
  },
  {
   "cell_type": "markdown",
   "metadata": {},
   "source": [
    "But this is no good.  Let's look closer."
   ]
  },
  {
   "cell_type": "code",
   "execution_count": 59,
   "metadata": {},
   "outputs": [
    {
     "name": "stdout",
     "output_type": "stream",
     "text": [
      "    a         pos        dist   \n",
      "====================================\n",
      "    1          1          0     \n",
      "    2          2          0     \n",
      "    5          3          2     \n",
      "    3          4          -1    \n",
      "    7          5          2     \n",
      "    8          6          2     \n",
      "    6          7          -1    \n",
      "    4          8          -4    \n"
     ]
    }
   ],
   "source": [
    "print(\"a\".center(10), \"pos\".center(10), \"dist\".center(10))\n",
    "print(\"====================================\")\n",
    "for a in arr2:\n",
    "    dist = a - (arr2.index(a) + 1)\n",
    "    print(\n",
    "        \"{}\".format(a).center(10),  \n",
    "        \"{}\".format(arr2.index(a) + 1).center(10),\n",
    "        \"{}\".format(dist).center(10)\n",
    "    )"
   ]
  },
  {
   "cell_type": "markdown",
   "metadata": {},
   "source": [
    "We can reconstruct the required swaps:\n",
    "\n",
    "1.  5 bribes 4:  `[1, 2, 3, 5, 4, 6, 7, 8]`\n",
    "2.  5 bribes 3:   `[1, 2, 5, 3, 4, 6, 7, 8]`\n",
    "3.  7 bribes 6:   `[1, 2, 5, 3, 4, 7, 6, 8]`\n",
    "4.  7 bribes 4:   `[1, 2, 5, 3, 7, 4, 6, 8]`\n",
    "5.  8 bribes 6:   `[1, 2, 5, 3, 7, 4, 8, 6]`\n",
    "6.  8 bribes 4:   `[1, 2, 5, 3, 7, 8, 4, 6]`\n",
    "7.  6 bribes 4:   `[1, 2, 5, 3, 7, 8, 6, 4]`"
   ]
  },
  {
   "cell_type": "markdown",
   "metadata": {},
   "source": [
    "Referring to our `dist` column from above, we find that we missed counting one of the times that 6 was bribed.  The reason why:  6 was bribed twice, but also performed one bribe.  We were only computing the net gain, not total times bribed.  How can we count the latter?\n",
    "\n",
    "Note that every time person P gets bribed, they switch places with person P-1.  That is to say, the number of persons Q where Q > P that are ahead of P in line are incremented by 1.  Note further that P-1 will never move behind P, we are looking for a _minimal_ number of moves, so nothing superfluous allowed.  Also, note that any person having bribed P could not get any further than P-1, since no one can move more than 2 places forward.  Taken together, this gives us the following method for counting the number of times person P has been bribed:  we simply count the number of persons Q with Q>P in the range `arr[P-1 : arr.index(P)]`.  That is, the number of persons greater than P that are between the place to the left of where P began and the place where P wound up."
   ]
  },
  {
   "cell_type": "code",
   "execution_count": 73,
   "metadata": {},
   "outputs": [],
   "source": [
    "arr1 = [5, 1, 2, 3, 7, 8, 6, 4]\n",
    "arr2 = [1, 2, 5, 3, 7, 8, 6, 4]\n",
    "arr3 = [2, 1, 5, 3, 4]\n",
    "arr4 = [2, 5, 1, 3, 4]"
   ]
  },
  {
   "cell_type": "code",
   "execution_count": 93,
   "metadata": {},
   "outputs": [
    {
     "name": "stdout",
     "output_type": "stream",
     "text": [
      "    TESTING minimumBribes     \n",
      "==============================\n",
      "Test 0:  minimumBribes([0, 0, 0, 5, 1, 2, 3, 7, 8, 6, 4])\n",
      "  Computed: 1\n",
      "  Expected: Too chaotic\n",
      "1 Too chaotic\n",
      "        TEST 0 FAILED         \n",
      "------------------------------\n",
      "Test 1:  minimumBribes([0, 0, 0, 0, 1, 2, 5, 3, 7, 8, 6, 4])\n",
      "  Computed: 0\n",
      "  Expected: 7\n",
      "0 7\n",
      "        TEST 1 FAILED         \n",
      "------------------------------\n",
      "Test 2:  minimumBribes([0, 0, 0, 0, 2, 1, 5, 3, 4])\n",
      "  Computed: 0\n",
      "  Expected: 3\n",
      "0 3\n",
      "        TEST 2 FAILED         \n",
      "------------------------------\n",
      "Test 3:  minimumBribes([0, 0, 0, 0, 2, 5, 1, 3, 4])\n",
      "  Computed: 0\n",
      "  Expected: Too chaotic\n",
      "0 Too chaotic\n",
      "        TEST 3 FAILED         \n",
      "------------------------------\n",
      "==============================\n",
      "The following 4 tests are failing:\n",
      "         [0, 1, 2, 3]         \n"
     ]
    }
   ],
   "source": [
    "def test(func, args, expected):\n",
    "    \"\"\"Requires len(args) == len(expected)\"\"\"\n",
    "    print(\"TESTING {}\".format(func.__name__).center(30))\n",
    "    print(\"=\"*30)\n",
    "    num_failed, which_failed = 0, []\n",
    "    for i, (arg, exp) in enumerate(zip(args, expected)):\n",
    "        computed = func(arg)\n",
    "        print(\"Test {}:  {}({})\".format(i, func.__name__, arg))\n",
    "        print(\"  Computed: {}\".format(computed))\n",
    "        print(\"  Expected: {}\".format(exp))\n",
    "        if func(arg) != exp:\n",
    "            print(computed, exp)\n",
    "            print(\"TEST {} FAILED\".format(i).center(30))\n",
    "            which_failed.append(i)\n",
    "            num_failed += 1\n",
    "        print(\"-\"*30)\n",
    "    print(\"=\"*30)\n",
    "    print(\"The following {} {} failing:\".format(num_failed, {0: 'test is', 1: 'tests are'}[num_failed > 1]))\n",
    "    print(\"{}\".format(which_failed).center(30))\n",
    "        \n",
    "        \n",
    "test(minimumBribes, [arr1, arr2, arr3, arr4], ['Too chaotic', 7, 3, 'Too chaotic'])"
   ]
  },
  {
   "cell_type": "code",
   "execution_count": 72,
   "metadata": {},
   "outputs": [],
   "source": [
    "# second attempt\n",
    "# sole change:  left index changed to max(0, a-2), since for a=1, a-2=-1\n",
    "#               which wraps around to the end of the array\n",
    "# Passing more tests now, but failing several due to timeout.\n",
    "\n",
    "def minimumBribes(arr):\n",
    "    total_bribes = 0\n",
    "    for a in arr:\n",
    "        if a - (arr.index(a) + 1) > 2:\n",
    "            return 'Too chaotic'\n",
    "        \n",
    "        bribes = sum([b > a for b in arr[max(0, a-2):arr.index(a)+1]])\n",
    "\n",
    "        total_bribes += bribes\n",
    "        \n",
    "    return total_bribes"
   ]
  },
  {
   "cell_type": "code",
   "execution_count": 68,
   "metadata": {},
   "outputs": [],
   "source": [
    "def minimumBribes(arr):\n",
    "    total_bribes = 0\n",
    "    for a in arr:\n",
    "        \n",
    "        if a - (arr.index(a) + 1) > 2:\n",
    "            return 'Too chaotic'\n",
    "        \n",
    "        for b in arr[max(0, a-2):arr.index(a)+1]:\n",
    "            total_bribes += (b > a)\n",
    "            \n",
    "        #bribes = sum([b > a for b in arr[max(0, a-2):arr.index(a)+1]])\n",
    "        #total_bribes += bribes\n",
    "        \n",
    "    return total_bribes"
   ]
  },
  {
   "cell_type": "code",
   "execution_count": 75,
   "metadata": {},
   "outputs": [
    {
     "name": "stdout",
     "output_type": "stream",
     "text": [
      "    TESTING minimumBribes     \n",
      "==============================\n",
      "Test 0:  minimumBribes([5, 1, 2, 3, 7, 8, 6, 4])\n",
      "  Computed: Too chaotic\n",
      "  Expected: Too chaotic\n",
      "------------------------------\n",
      "Test 1:  minimumBribes([1, 2, 5, 3, 7, 8, 6, 4])\n",
      "  Computed: 7\n",
      "  Expected: 7\n",
      "------------------------------\n",
      "Test 2:  minimumBribes([2, 1, 5, 3, 4])\n",
      "  Computed: 3\n",
      "  Expected: 3\n",
      "------------------------------\n",
      "Test 3:  minimumBribes([2, 5, 1, 3, 4])\n",
      "  Computed: Too chaotic\n",
      "  Expected: Too chaotic\n",
      "------------------------------\n",
      "==============================\n",
      "The following 0 test is failing:\n",
      "              []              \n"
     ]
    }
   ],
   "source": [
    "test(minimumBribes, [arr1, arr2, arr3, arr4], ['Too chaotic', 7, 3, 'Too chaotic'])"
   ]
  },
  {
   "cell_type": "code",
   "execution_count": 126,
   "metadata": {},
   "outputs": [
    {
     "name": "stdout",
     "output_type": "stream",
     "text": [
      "i=0 arr[i]=0\n",
      "pending: {1}\n",
      "pending after changes: {1, 2}\n",
      "  Checking each p in pending\n",
      "    No bribes\n",
      "total_bribes 0\n",
      "  Checking each p in pending\n",
      "    No bribes\n",
      "total_bribes 0\n",
      "i=1 arr[i]=1\n",
      "pending: {1, 2}\n",
      "pending after changes: {2, 5}\n",
      "  Checking each p in pending\n",
      "    No bribes\n",
      "total_bribes 0\n",
      "  Checking each p in pending\n",
      "    No bribes\n",
      "total_bribes 0\n",
      "i=2 arr[i]=2\n",
      "pending: {2, 5}\n",
      "pending after changes: {3, 5}\n",
      "  Checking each p in pending\n",
      "    No bribes\n",
      "total_bribes 0\n",
      "  Checking each p in pending\n",
      "    No bribes\n",
      "total_bribes 0\n",
      "i=3 arr[i]=5\n",
      "pending: {3, 5}\n",
      "pending after changes: {5, 7}\n",
      "  Checking each p in pending\n",
      "    No bribes\n",
      "total_bribes 0\n",
      "  Checking each p in pending\n",
      "    No bribes\n",
      "total_bribes 0\n",
      "i=4 arr[i]=3\n",
      "pending: {5, 7}\n",
      "pending after changes: {5, 7, 8}\n",
      "  Checking each p in pending\n",
      "    No bribes\n",
      "total_bribes 0\n",
      "  Checking each p in pending\n",
      "    No bribes\n",
      "total_bribes 0\n",
      "  Checking each p in pending\n",
      "    No bribes\n",
      "total_bribes 0\n",
      "i=5 arr[i]=7\n",
      "pending: {5, 7, 8}\n",
      "pending after changes: {6, 7, 8}\n",
      "  Checking each p in pending\n",
      "    arr[i]=7 > 6=p\n",
      "    => p=6 was bribed\n",
      "total_bribes 1\n",
      "  Checking each p in pending\n",
      "    No bribes\n",
      "total_bribes 1\n",
      "  Checking each p in pending\n",
      "    No bribes\n",
      "total_bribes 1\n",
      "i=6 arr[i]=8\n",
      "pending: {6, 7, 8}\n",
      "pending after changes: {4, 7, 8}\n",
      "  Checking each p in pending\n",
      "    arr[i]=8 > 4=p\n",
      "    => p=4 was bribed\n",
      "total_bribes 2\n",
      "  Checking each p in pending\n",
      "    arr[i]=8 > 7=p\n",
      "    => p=7 was bribed\n",
      "total_bribes 3\n",
      "  Checking each p in pending\n",
      "    No bribes\n",
      "total_bribes 3\n",
      "i=7 arr[i]=6\n",
      "pending: {4, 7, 8}\n",
      "pending after changes: {4, 8}\n",
      "  Checking each p in pending\n",
      "    arr[i]=6 > 4=p\n",
      "    => p=4 was bribed\n",
      "total_bribes 4\n",
      "  Checking each p in pending\n",
      "    No bribes\n",
      "total_bribes 4\n"
     ]
    },
    {
     "data": {
      "text/plain": [
       "4"
      ]
     },
     "execution_count": 126,
     "metadata": {},
     "output_type": "execute_result"
    }
   ],
   "source": [
    "# rewriting\n",
    "\n",
    "arr1 = [5, 1, 2, 3, 7, 8, 6, 4]\n",
    "arr2 = [1, 2, 5, 3, 7, 8, 6, 4]\n",
    "arr3 = [2, 1, 5, 3, 4]\n",
    "arr4 = [2, 5, 1, 3, 4]\n",
    "\n",
    "def minimumBribes(arr, toPrint=False):\n",
    "    arr = [0] + list(arr)\n",
    "    pending = set([1])\n",
    "    total_bribes = 0\n",
    "    for i in range(len(arr) - 1):\n",
    "        if arr[i] > i+2:\n",
    "            return 'Too chaotic'\n",
    "        print(\"i={}\".format(i), \"arr[i]={}\".format(arr[i]))\n",
    "        print(\"pending:\", pending)\n",
    "        pending.discard(i)\n",
    "        if i+2 < len(arr):\n",
    "            pending.add(arr[i+2])\n",
    "        if toPrint:\n",
    "            print(\"pending after changes:\", pending)\n",
    "        for p in pending:\n",
    "            print(\"  Checking each p in pending\")\n",
    "            if toPrint:\n",
    "                if arr[i] > p:\n",
    "                    print(\"    arr[i]={} > {}=p\".format(arr[i], p))\n",
    "                    print(\"    => p={} was bribed\".format(p))\n",
    "                else:\n",
    "                    print(\"    No bribes\")\n",
    "            total_bribes += arr[i] > p\n",
    "            print(\"total_bribes\", total_bribes)\n",
    "            \n",
    "    return total_bribes\n",
    "\n",
    "minimumBribes(arr2, toPrint=True)"
   ]
  },
  {
   "cell_type": "code",
   "execution_count": null,
   "metadata": {},
   "outputs": [],
   "source": []
  },
  {
   "cell_type": "code",
   "execution_count": 99,
   "metadata": {},
   "outputs": [
    {
     "name": "stdout",
     "output_type": "stream",
     "text": [
      "    TESTING minimumBribes     \n",
      "==============================\n",
      "Test 0:  minimumBribes([5, 1, 2, 3, 7, 8, 6, 4])\n",
      "  Computed: Too chaotic\n",
      "  Expected: Too chaotic\n",
      "------------------------------\n",
      "Test 1:  minimumBribes([1, 2, 5, 3, 7, 8, 6, 4])\n",
      "  Computed: 3\n",
      "  Expected: 7\n",
      "3 7\n",
      "        TEST 1 FAILED         \n",
      "------------------------------\n",
      "Test 2:  minimumBribes([2, 1, 5, 3, 4])\n",
      "  Computed: 1\n",
      "  Expected: 3\n",
      "1 3\n",
      "        TEST 2 FAILED         \n",
      "------------------------------\n",
      "Test 3:  minimumBribes([2, 5, 1, 3, 4])\n",
      "  Computed: Too chaotic\n",
      "  Expected: Too chaotic\n",
      "------------------------------\n",
      "==============================\n",
      "The following 2 tests are failing:\n",
      "            [1, 2]            \n"
     ]
    }
   ],
   "source": [
    "test(minimumBribes, [arr1, arr2, arr3, arr4], ['Too chaotic', 7, 3, 'Too chaotic'])"
   ]
  }
 ],
 "metadata": {
  "kernelspec": {
   "display_name": "Python 3",
   "language": "python",
   "name": "python3"
  },
  "language_info": {
   "codemirror_mode": {
    "name": "ipython",
    "version": 3
   },
   "file_extension": ".py",
   "mimetype": "text/x-python",
   "name": "python",
   "nbconvert_exporter": "python",
   "pygments_lexer": "ipython3",
   "version": "3.7.3"
  }
 },
 "nbformat": 4,
 "nbformat_minor": 2
}
