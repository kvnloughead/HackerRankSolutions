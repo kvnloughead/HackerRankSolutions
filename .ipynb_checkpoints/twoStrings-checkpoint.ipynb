{
 "cells": [
  {
   "cell_type": "markdown",
   "metadata": {},
   "source": [
    "__Problem description:__ \n",
    "\n",
    "> Given two strings, determine if they share a common substring. A substring may be as small as one character."
   ]
  },
  {
   "cell_type": "markdown",
   "metadata": {},
   "source": [
    "__Solution.__  This problem boils down to comparing the sets of sequential substrings for each of the two words.  General procedure:\n",
    "\n",
    "1.  Generate all substrings of the smaller string (potential performance gains over working with larger string first)\n",
    "2.  Iterate through each substring of the longer string looking for matches.\n",
    "\n",
    "Here is an implementation."
   ]
  },
  {
   "cell_type": "code",
   "execution_count": 20,
   "metadata": {},
   "outputs": [],
   "source": [
    "# First version, probably working\n",
    "\n",
    "def gen_substrings(string):\n",
    "    \"\"\"Generates all (consecutive) substrings of string.\"\"\"\n",
    "    for i in range(len(string)):\n",
    "        for j in range(i+1, len(s1)+1):\n",
    "            yield string[i:j]\n",
    "            \n",
    "def have_matching_substrings(s1, s2):\n",
    "    \"\"\"Generates full set of (consecutive) substrings for the shorter string,\n",
    "    then iterates through substrings of the longer substring looking for matches.\n",
    "    \"\"\"\n",
    "    shorter, longer = sorted([s1, s2], key=len)\n",
    "    substrings_shorter = set(gen_substrings(shorter))\n",
    "    for substring in gen_substrings(longer):\n",
    "        if substring in substrings_shorter:\n",
    "            return True\n",
    "    return False"
   ]
  },
  {
   "cell_type": "markdown",
   "metadata": {},
   "source": [
    "__Optimization.__  I had thought to optimize this algorithm by rewriting `gen_substrings` so that it generated substrings in ascending order according to the length of the substrings, like this:\n",
    "\n",
    "```\n",
    ">>> for substring in gen_substrings(\"foobar\"):\n",
    "...    print(substring)\n",
    "...\n",
    "\"f\"\n",
    "\"o\"\n",
    "\"o\"\n",
    "```\n",
    "$\\qquad\\vdots$\n",
    "\n",
    "Probably wouldn't make a difference to the performance of `gen_substrings` itself, but it would make the finding of matches go _much_ quicker, since if `s1` and `s2` have a substring `s3` in common, then there must be one or more single characters in `s1` that are also found in `s2` and... oh, right."
   ]
  },
  {
   "cell_type": "markdown",
   "metadata": {},
   "source": [
    "__Rewrite.__\n",
    "\n",
    "Note that strings `s1` and `s2` share a substring of any nonzero length if and only if they share a substring of length 1.  Thus, our solution is simplified significantly.\n",
    "\n"
   ]
  },
  {
   "cell_type": "code",
   "execution_count": 29,
   "metadata": {},
   "outputs": [],
   "source": [
    "# Final version\n",
    "\n",
    "def have_matching_substrings(s1, s2):\n",
    "    return bool(set(s1).intersection(set(s2)))                "
   ]
  }
 ],
 "metadata": {
  "kernelspec": {
   "display_name": "Python 3",
   "language": "python",
   "name": "python3"
  },
  "language_info": {
   "codemirror_mode": {
    "name": "ipython",
    "version": 3
   },
   "file_extension": ".py",
   "mimetype": "text/x-python",
   "name": "python",
   "nbconvert_exporter": "python",
   "pygments_lexer": "ipython3",
   "version": "3.7.3"
  }
 },
 "nbformat": 4,
 "nbformat_minor": 2
}
