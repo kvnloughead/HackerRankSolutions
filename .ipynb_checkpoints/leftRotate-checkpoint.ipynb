{
 "cells": [
  {
   "cell_type": "markdown",
   "metadata": {},
   "source": [
    "Working on [Arrays: Left Rotation](https://www.hackerrank.com/challenges/ctci-array-left-rotation/problem?h_l=interview&playlist_slugs%5B%5D=interview-preparation-kit&playlist_slugs%5B%5D=arrays&h_r=next-challenge&h_v=zen) at Hacker Rank.  In short, we need to write a program that left rotates a given array a certain number of times and returns the result, with left rotate meaning we push all elements d places to the left, wrapping around from index 0 to index -1.  My first attempt solves all but two test cases, which fail due to a timeout.  Here it is:"
   ]
  },
  {
   "cell_type": "code",
   "execution_count": 3,
   "metadata": {},
   "outputs": [
    {
     "data": {
      "text/plain": [
       "['better', 'than', 'nested', 'Flat', 'is']"
      ]
     },
     "execution_count": 3,
     "metadata": {},
     "output_type": "execute_result"
    }
   ],
   "source": [
    "def left_rotate(arr):\n",
    "    \"\"\"Left rotates array in place.  \n",
    "    Ex:  [1, 2, 3, 4, 5] -> [2, 3, 4, 5, 1]\"\"\"\n",
    "    return arr[1:] + [arr[0]]\n",
    "\n",
    "def rotLeft(arr, d):\n",
    "    \"\"\"Rotates array a left d times.\"\"\"\n",
    "    for i in range(d):\n",
    "        arr = left_rotate(arr)\n",
    "    return arr\n",
    "\n",
    "# Example\n",
    "\n",
    "yoda_says = rotLeft(['Flat', 'is', 'better', 'than', 'nested'], 2)\n",
    "yoda_says"
   ]
  },
  {
   "cell_type": "markdown",
   "metadata": {},
   "source": [
    "The performance issue seems clear enough: to many incremental rotations.  We could avoid many rotations (in some cases) by simply noting that \n",
    "\n",
    "```\n",
    "rotLeft(arr, d) == rotLeft(arr, d % len(arr))\n",
    "```\n",
    "\n",
    "since after every `len(arr)` left rotations our array is back to its original arrangement.  This won't help us with cases where `arr` itself is very large, but it might be sufficient.\n"
   ]
  },
  {
   "cell_type": "code",
   "execution_count": 7,
   "metadata": {},
   "outputs": [
    {
     "data": {
      "text/plain": [
       "['still', 'too', 'slow', 'This', 'is']"
      ]
     },
     "execution_count": 7,
     "metadata": {},
     "output_type": "execute_result"
    }
   ],
   "source": [
    "def left_rotate(arr):\n",
    "    \"\"\"Left rotates array in place.  \n",
    "    Ex:  [1, 2, 3, 4, 5] -> [2, 3, 4, 5, 1]\"\"\"\n",
    "    return arr[1:] + [arr[0]]\n",
    "\n",
    "def rotLeft(arr, d):\n",
    "    \"\"\"Rotates array a left d times.\"\"\"\n",
    "    d = d % len(arr)\n",
    "    for i in range(d):\n",
    "        arr = left_rotate(arr)\n",
    "    return arr\n",
    "\n",
    "# Example\n",
    "\n",
    "yoda_says = rotLeft(['This', 'is', 'still', 'too', 'slow'], 2)\n",
    "yoda_says"
   ]
  },
  {
   "cell_type": "markdown",
   "metadata": {},
   "source": [
    "The next problem, I believe, is with my `left_rotate` rotate function.  It is still doing a lot of work for each little rotation!  Perhaps instead of splitting the array and re-concatenating back together we can simply lop off the first element and append it to the end."
   ]
  },
  {
   "cell_type": "code",
   "execution_count": 13,
   "metadata": {},
   "outputs": [
    {
     "data": {
      "text/plain": [
       "['strong', 'in', 'this one', 'Performance', 'is']"
      ]
     },
     "execution_count": 13,
     "metadata": {},
     "output_type": "execute_result"
    }
   ],
   "source": [
    "def left_rotate(arr):\n",
    "    \"\"\"Left rotates array in place.  \n",
    "    Ex:  [1, 2, 3, 4, 5] -> [2, 3, 4, 5, 1]\"\"\"\n",
    "    arr.append(arr.pop(0))\n",
    "    return arr\n",
    "\n",
    "def rotLeft(arr, d):\n",
    "    \"\"\"Rotates array a left d times.\"\"\"\n",
    "    d = d % len(arr)\n",
    "    for i in range(d):\n",
    "        arr = left_rotate(arr)\n",
    "    return arr\n",
    "\n",
    "yoda_says = rotLeft(['Performance', 'is', 'strong', 'in', 'this one'], 2)\n",
    "yoda_says"
   ]
  }
 ],
 "metadata": {
  "kernelspec": {
   "display_name": "Python 3",
   "language": "python",
   "name": "python3"
  },
  "language_info": {
   "codemirror_mode": {
    "name": "ipython",
    "version": 3
   },
   "file_extension": ".py",
   "mimetype": "text/x-python",
   "name": "python",
   "nbconvert_exporter": "python",
   "pygments_lexer": "ipython3",
   "version": "3.7.3"
  }
 },
 "nbformat": 4,
 "nbformat_minor": 2
}
