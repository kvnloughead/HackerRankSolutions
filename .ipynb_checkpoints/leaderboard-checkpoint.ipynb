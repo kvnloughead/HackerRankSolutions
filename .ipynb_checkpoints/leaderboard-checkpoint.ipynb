{
 "cells": [
  {
   "cell_type": "markdown",
   "metadata": {},
   "source": [
    "This post is a partial walkthrough of the [Climbing the Leaderboards](https://www.hackerrank.com/challenges/climbing-the-leaderboard/problem) challenge on HackerRank.  "
   ]
  },
  {
   "cell_type": "markdown",
   "metadata": {},
   "source": [
    "# Problem Description"
   ]
  },
  {
   "cell_type": "markdown",
   "metadata": {},
   "source": [
    "Suppose a person Alice is playing a game with scores ranked using __dense ranking__: all ties are given equal ranks, and no numerical ranks are skipped.  For example, the scores 10, 7, 7 and 5 would have ranks 1, 2, 2 and 3 respectively.   You are given an array of scores `alice` for games that Alice plays, along with the `scores` already on the leaderboard (in descending order), and you are supposed to compute the ranks corresponding to those scores.  That is the problem in a nutshell."
   ]
  },
  {
   "cell_type": "markdown",
   "metadata": {},
   "source": [
    "## Solution\n",
    "\n",
    "The problem has two parts:\n",
    "\n",
    "1. Rank `scores` densely,\n",
    "2. For each score in `alice`, \n",
    "    a. find its place in `scores`, and\n",
    "    b. return the corresponding rank.\n",
    "    \n",
    "### Part 1:  Dense Ranking\n",
    "\n",
    "The function below accomplishes the dense ranking of a descending array."
   ]
  },
  {
   "cell_type": "code",
   "execution_count": 9,
   "metadata": {},
   "outputs": [],
   "source": [
    "import numpy as np\n",
    "import bisect"
   ]
  },
  {
   "cell_type": "code",
   "execution_count": 5,
   "metadata": {},
   "outputs": [],
   "source": [
    "def dense_rank_array(array):\n",
    "    \"\"\"\n",
    "    Returns array of dense rankings for input array.\n",
    "    array must be sorted in descending order.\n",
    "    \"\"\"\n",
    "    ranks = [1]\n",
    "    current_rank = 1\n",
    "    current_score = array[0]\n",
    "    for i, a in enumerate(array[1:]):\n",
    "        if a == current_score:\n",
    "            ranks.append(current_rank)\n",
    "        else:\n",
    "            current_rank += 1\n",
    "            current_score = a\n",
    "            ranks.append(current_rank)\n",
    "    return ranks"
   ]
  },
  {
   "cell_type": "code",
   "execution_count": 12,
   "metadata": {},
   "outputs": [
    {
     "name": "stdout",
     "output_type": "stream",
     "text": [
      "[1, 2, 2, 3]\n",
      "[1, 2, 2, 3]\n",
      "[1, 1, 2, 3, 3, 3, 4, 5]\n"
     ]
    }
   ],
   "source": [
    "# Works on simple example\n",
    "print(dense_rank_array([10, 7, 7, 5]))\n",
    "\n",
    "# Works with np.arrays\n",
    "print(dense_rank_array(np.array([10, 7, 7, 5])))\n",
    "\n",
    "# Works with provided sample array\n",
    "print(dense_rank_array([100, 100, 50, 40, 40, 40, 20, 10]))"
   ]
  },
  {
   "cell_type": "markdown",
   "metadata": {},
   "source": [
    "### Part 2:  Ranking Alice\n",
    "\n",
    "Above, we have already imported the `bisect` module, which provides methods for inserting a given element into a sorted array such that the array remains in sorted order (`insort`) , as well as functions that simply return the index at which one _could_ insert the element to keep the array sorted, were one so inclined.  We will need the latter sort (ie, `bisect.bisect_left` or `bisect.bisect_right`) rather than the former, since apparently the scoreboard doesn't save Alice's scores between games:  what a rip off!  Let's try this with the provided example:\n"
   ]
  },
  {
   "cell_type": "code",
   "execution_count": 13,
   "metadata": {},
   "outputs": [],
   "source": [
    "scores = [100, 100, 50, 40, 40, 40, 20, 10]\n",
    "alice = [5, 25, 50, 120]"
   ]
  },
  {
   "cell_type": "code",
   "execution_count": 23,
   "metadata": {},
   "outputs": [
    {
     "data": {
      "text/plain": [
       "[1, 1, 2, 3, 3, 3, 4, 5]"
      ]
     },
     "execution_count": 23,
     "metadata": {},
     "output_type": "execute_result"
    }
   ],
   "source": [
    "# rank the scores\n",
    "ranks = dense_rank_array(scores)\n",
    "ranks"
   ]
  },
  {
   "cell_type": "code",
   "execution_count": 21,
   "metadata": {},
   "outputs": [
    {
     "name": "stdout",
     "output_type": "stream",
     "text": [
      "0\n",
      "0\n",
      "8\n",
      "8\n"
     ]
    }
   ],
   "source": [
    "for score in alice:\n",
    "    # We choose bisect_right, more or less arbitrarily\n",
    "    place = bisect.bisect_right(scores, score)\n",
    "    print(place)"
   ]
  },
  {
   "cell_type": "markdown",
   "metadata": {},
   "source": [
    "Well, that is not correct at all.  The places (not ranks) of her scores should be `[8, 6, 3, 0]`.  As it turns out, these bisect functions assume an array in _ascending_ order.  What to do?  How about we hijack the source code.  The following is a very slightly modified version of `bisect_right` that seems to do the trick."
   ]
  },
  {
   "cell_type": "code",
   "execution_count": 25,
   "metadata": {},
   "outputs": [],
   "source": [
    "def bisect_right_desc(a, x, lo=0, hi=None):\n",
    "    \"\"\"\n",
    "    Performs bisect_right on a _descending_ array a.  Simply modifies the \n",
    "    source code (and docstring) of bisect.bisect_right.\n",
    "    \n",
    "    Return the index where to insert item x in list a, assuming a is sorted.\n",
    "\n",
    "    The return value i is such that all e in a[:i] have e >= x, and all e in\n",
    "    a[i:] have e < x.  So if x already appears in the list, a.insert(x) will\n",
    "    insert just after the rightmost x already there.\n",
    "\n",
    "    Optional args lo (default 0) and hi (default len(a)) bound the\n",
    "    slice of a to be searched.\n",
    "    \"\"\"\n",
    "\n",
    "    if lo < 0:\n",
    "        raise ValueError('lo must be non-negative')\n",
    "    if hi is None:\n",
    "        hi = len(a)\n",
    "    while lo < hi:\n",
    "        mid = (lo+hi)//2\n",
    "        if x > a[mid]:\n",
    "            hi = mid\n",
    "        else:\n",
    "            lo = mid+1\n",
    "    return lo\n"
   ]
  },
  {
   "cell_type": "code",
   "execution_count": 31,
   "metadata": {},
   "outputs": [
    {
     "name": "stdout",
     "output_type": "stream",
     "text": [
      "8\n",
      "6\n",
      "3\n",
      "0\n"
     ]
    }
   ],
   "source": [
    "for score in alice:\n",
    "    place = bisect_right_desc(scores, score)\n",
    "    print(place)"
   ]
  },
  {
   "cell_type": "markdown",
   "metadata": {},
   "source": [
    "Now, to retrieve the correct rank from `ranks`.   Note that the rank of a `score` placed at index `place` by `bisect_right_desc` will be determined by its value compared to its neighbor to the left.  In particular, if `score` is equal to its neighbor to the left, then its rank will equal that neighbors rank, while if this is not the case, the rank of `score` will be incremented by one.   Another thing to note is that if `place = 0` we cannot take `place-1` as the index for the left hand neighbor of `score`, since in Python `arr[-1]` is the last element in `arr`.  An `if: else` will work around this issue."
   ]
  },
  {
   "cell_type": "code",
   "execution_count": 37,
   "metadata": {},
   "outputs": [],
   "source": [
    "def rank_alice(alice, scores):\n",
    "    ranks = dense_rank_array(scores)\n",
    "    alice_ranks = []\n",
    "    for score in alice:\n",
    "        place = bisect_right_desc(scores, score)\n",
    "        if place == 0:\n",
    "            alice_ranks.append(1)\n",
    "        else:\n",
    "            alice_ranks.append(ranks[place - 1] + (scores[place - 1] != score))\n",
    "    return alice_ranks"
   ]
  },
  {
   "cell_type": "code",
   "execution_count": 38,
   "metadata": {},
   "outputs": [
    {
     "data": {
      "text/plain": [
       "[6, 4, 2, 1]"
      ]
     },
     "execution_count": 38,
     "metadata": {},
     "output_type": "execute_result"
    }
   ],
   "source": [
    "rank_alice(alice, scores)"
   ]
  },
  {
   "cell_type": "markdown",
   "metadata": {},
   "source": [
    "And that is pretty much it.  Import `bisect`, paste in those three function definitions, changing the name of `rank_alice` to `climbLeaderboard`, and the problem is solved.   Personally, I think each successive score in `alice` should force us to update the ranks in `scores`, for the sake of realism."
   ]
  }
 ],
 "metadata": {
  "kernelspec": {
   "display_name": "Python 3",
   "language": "python",
   "name": "python3"
  },
  "language_info": {
   "codemirror_mode": {
    "name": "ipython",
    "version": 3
   },
   "file_extension": ".py",
   "mimetype": "text/x-python",
   "name": "python",
   "nbconvert_exporter": "python",
   "pygments_lexer": "ipython3",
   "version": "3.7.3"
  }
 },
 "nbformat": 4,
 "nbformat_minor": 2
}
