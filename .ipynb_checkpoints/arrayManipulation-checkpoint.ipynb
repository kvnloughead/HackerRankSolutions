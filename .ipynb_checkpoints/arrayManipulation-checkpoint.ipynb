{
 "cells": [
  {
   "cell_type": "markdown",
   "metadata": {},
   "source": [
    "Now, for a hard ranked problem on HackerRank:  [Array Manipulation](https://www.hackerrank.com/challenges/crush/problem?h_l=interview&playlist_slugs%5B%5D=interview-preparation-kit&playlist_slugs%5B%5D=arrays&h_r=next-challenge&h_v=zen)\n",
    "\n",
    "> Starting with a 1-indexed array of zeros and a list of operations, for each operation add a value to each of the array element between two given indices, inclusive. Once all operations have been performed, return the maximum value in your array. \n",
    "\n",
    "Translation:  You have a 1 indexed (and one-dimensional) array `A` of zeros, and will be given a collection of tuples `(a, b, k)`.  For each tuple in the collection, must add `k` to each element in `A[a:b+1]`.  Once done, return the max value.\n",
    "\n",
    "__Solution.__  We will attempt it with Python standard library:  no NumPy.  Vectorized operations would make the time complexity issues trivial, I believe.  Instead of dealing with reindexing throughout the whole problem, I will simply subclass `list` to override the `itemgetter` method."
   ]
  },
  {
   "cell_type": "code",
   "execution_count": 134,
   "metadata": {},
   "outputs": [
    {
     "name": "stdout",
     "output_type": "stream",
     "text": [
      "Index of 1 \n",
      "\t   expected: 1, computed: 1\n",
      "Index of 5 \n",
      "\t   expected: 5, computed: 5\n",
      "Index of 9 \n",
      "\t   expected: 9, computed: 9\n"
     ]
    }
   ],
   "source": [
    "class ListBase1(list):\n",
    "        \n",
    "    def __getitem__(self, n):\n",
    "        return list.__getitem__(self, n - 1)\n",
    "    \n",
    "    def index(self, elem):\n",
    "        return list.index(self, elem) + 1\n",
    "    \n",
    "test_case = ListBase1(range(1, 10))\n",
    "for i in [1, 5, 9]:\n",
    "    print(\"Index of {} \\n\\t   expected: {}, computed: {}\".format(i, i, test_case[i]))"
   ]
  },
  {
   "cell_type": "markdown",
   "metadata": {},
   "source": [
    "It works the other way, too:"
   ]
  },
  {
   "cell_type": "code",
   "execution_count": 131,
   "metadata": {},
   "outputs": [
    {
     "name": "stdout",
     "output_type": "stream",
     "text": [
      "The index of the 5th element is 5\n"
     ]
    }
   ],
   "source": [
    "i = 5\n",
    "print(\"The index of the {}th element is {}\".format(i, test.index(i)))"
   ]
  },
  {
   "cell_type": "markdown",
   "metadata": {},
   "source": [
    "Note that indexing from the end of a `ListBase1` array begins at 0, as opposed to beginning with -1 as does reverse indexing in 0-indexed arrays.  This is acceptable to me."
   ]
  },
  {
   "cell_type": "code",
   "execution_count": 135,
   "metadata": {},
   "outputs": [],
   "source": [
    "operations = [\n",
    "    (1, 5, 3),   # (a, b, k)\n",
    "    (4, 8, 7),\n",
    "    (6, 9, 1)\n",
    "]\n",
    "\n",
    "A = [0] * 10         "
   ]
  },
  {
   "cell_type": "markdown",
   "metadata": {},
   "source": [
    "Before proceeding, it occurred to me that while a correct algorithm is trivial\n",
    "\n",
    "```\n",
    "for op in operations:\n",
    "    add k to each element in A[a:b+1]\n",
    "return max(A)\n",
    "```\n",
    "\n",
    "the time complexity issues might be insurmountable without vectorization, or some other strategy.  Quick dictionary lookups might be just such a strategy, and can be used without imports.  "
   ]
  },
  {
   "cell_type": "code",
   "execution_count": 149,
   "metadata": {},
   "outputs": [
    {
     "data": {
      "text/plain": [
       "{1: 0, 2: 0, 3: 0, 4: 0, 5: 0, 6: 0, 7: 0, 8: 0, 9: 0, 10: 0}"
      ]
     },
     "execution_count": 149,
     "metadata": {},
     "output_type": "execute_result"
    }
   ],
   "source": [
    "A = {i:0 for i in range(1, 11)}\n",
    "A"
   ]
  },
  {
   "cell_type": "code",
   "execution_count": 150,
   "metadata": {},
   "outputs": [
    {
     "name": "stdout",
     "output_type": "stream",
     "text": [
      "10\n",
      "{1: 3, 2: 3, 3: 3, 4: 10, 5: 10, 6: 8, 7: 8, 8: 8, 9: 1, 10: 0}\n"
     ]
    }
   ],
   "source": [
    "for op in operations:\n",
    "    rng = range(op[0], op[1]+1)\n",
    "    for r in rng:\n",
    "        A[r] += op[2]\n",
    "        \n",
    "print(A[max(A, key=lambda key:A[key])])\n",
    "print(A)"
   ]
  },
  {
   "cell_type": "markdown",
   "metadata": {},
   "source": [
    "And that seems to do the trick.  Now to translate it into the required form."
   ]
  },
  {
   "cell_type": "code",
   "execution_count": 151,
   "metadata": {},
   "outputs": [
    {
     "data": {
      "text/plain": [
       "10"
      ]
     },
     "execution_count": 151,
     "metadata": {},
     "output_type": "execute_result"
    }
   ],
   "source": [
    "def arrayManipulation(n, queries):\n",
    "    A = {i:0 for i in range(1, n+1)}\n",
    "    for q in queries:\n",
    "        a, b, k = q\n",
    "        for index in range(a, b+1):\n",
    "            A[index] += k\n",
    "    return A[max(A, key=lambda key:A[key])]\n",
    "\n",
    "arrayManipulation(10, operations)"
   ]
  },
  {
   "cell_type": "markdown",
   "metadata": {},
   "source": [
    "Bloody hell, it's timing out for more than half of the test_cases.   And I double checked:  `numpy` is a no go.  So, we need a new strategy."
   ]
  },
  {
   "cell_type": "markdown",
   "metadata": {},
   "source": [
    "__A New Strategy.__  And this new strategy is... look in the discussion forums for help?  Yes, but I didn't look very hard, so I don't feel too bad.  A glance at a (to me) inscrutable solution in C, and at a high level explanation of said solution.  This explanation explained that the array `A` stores the _differences between elements_, not the values in the elements themselves.  After some thought, I put together this:"
   ]
  },
  {
   "cell_type": "code",
   "execution_count": 175,
   "metadata": {},
   "outputs": [
    {
     "data": {
      "text/plain": [
       "10"
      ]
     },
     "execution_count": 175,
     "metadata": {},
     "output_type": "execute_result"
    }
   ],
   "source": [
    "def arrayManipulation(n, queries):\n",
    "    A = [0]*(n+1)      # just ignore the 0th element, ok?  My ListBase1 class still needs work\n",
    "    \n",
    "    for q in queries:  # iterate through our operations, in O(q) < O(n) time\n",
    "        a, b, k = q\n",
    "        A[a] += k      # a^th element is k greater than (a-1)th\n",
    "        A[b] -= k      # b^th element is k less than (b-1)th\n",
    "        \n",
    "    max_val = 0\n",
    "    current_val = 0\n",
    "    for i, a in enumerate(A):       # iterate through A, in O(n)\n",
    "        current_val += a            # adding sequential differences eventually yields max value\n",
    "        if current_val > max_val:\n",
    "            max_val = current_val\n",
    "    return max_val\n",
    "        \n",
    "operations = [\n",
    "    (1, 5, 3),   # (a, b, k)\n",
    "    (4, 8, 7),\n",
    "    (6, 9, 1)\n",
    "]\n",
    "arrayManipulation(10, operations)"
   ]
  },
  {
   "cell_type": "markdown",
   "metadata": {},
   "source": [
    "To my great pleasure, there were no more timeouts!  Less pleasurable were the half dozen or so failed test cases.  The error was easy to fix, though.  Basically, it is the `b+1`th element that should be decremented within the first for loop, not the `b`th element, since the queries are inclusive.  Of course, we need to ensure that `b != n`:  otherwise, we would get an index error."
   ]
  },
  {
   "cell_type": "code",
   "execution_count": 198,
   "metadata": {},
   "outputs": [],
   "source": [
    "def arrayManipulation(n, queries):\n",
    "    A = [0]*(n+1)      # just ignore the 0th element, ok?  My ListBase1 class still needs work\n",
    "    \n",
    "    for q in queries:  # iterate through our operations, in O(q) < O(n) time\n",
    "        a, b, k = q\n",
    "        A[a] += k      # a^th element is k greater than (a-1)th\n",
    "        if b < n:\n",
    "            A[b+1] -= k      # (b+1)th element is k less than b^th\n",
    "    \n",
    "    max_val = 0\n",
    "    current_val = 0\n",
    "    for i, a in enumerate(A):       # iterate through A, in O(n)\n",
    "        current_val += a            # adding sequential differences eventually yields max value\n",
    "        if current_val > max_val:\n",
    "            max_val = current_val\n",
    "    return max_val"
   ]
  }
 ],
 "metadata": {
  "kernelspec": {
   "display_name": "Python 3",
   "language": "python",
   "name": "python3"
  },
  "language_info": {
   "codemirror_mode": {
    "name": "ipython",
    "version": 3
   },
   "file_extension": ".py",
   "mimetype": "text/x-python",
   "name": "python",
   "nbconvert_exporter": "python",
   "pygments_lexer": "ipython3",
   "version": "3.7.3"
  }
 },
 "nbformat": 4,
 "nbformat_minor": 2
}
