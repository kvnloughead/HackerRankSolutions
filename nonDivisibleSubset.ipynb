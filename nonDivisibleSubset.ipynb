{
 "cells": [
  {
   "cell_type": "markdown",
   "metadata": {},
   "source": [
    "First attempt seems to be correct, but non-performant."
   ]
  },
  {
   "cell_type": "code",
   "execution_count": null,
   "metadata": {},
   "outputs": [],
   "source": [
    "# Given an integer k and a set S of distinct integers, print the size of a maximal subset\n",
    "# S' of S such that the sum of any two numbers s1, s2 in S' in not evenly divisible by k.\n",
    "\n",
    "# the integers actually come as an array with possible duplicates, so first we convert to set \n",
    "\n",
    "import itertools\n",
    "\n",
    "arr = [19, 10, 12, 10, 24, 25, 22]\n",
    "S = set(arr)\n",
    "k = 4\n",
    "\n",
    "S = set([1, 7, 2, 4])\n",
    "k = 3\n",
    "\n",
    "def nonDivisibleSubset(k, S):\n",
    "    for i in range(len(S), -1, -1):\n",
    "        for combo in itertools.combinations(S, i):\n",
    "            if all([sum(pair) % k != 0 \\\n",
    "                    for pair in itertools.combinations(combo, 2)]):\n",
    "                return i\n",
    "    return 0\n",
    "\n",
    "print(nonDivisibleSubset(k, S))"
   ]
  },
  {
   "cell_type": "markdown",
   "metadata": {},
   "source": [
    "To solve this problem more efficiently, we can use the following Theorem.\n",
    "\n",
    "__Theorem__.  The sum $a+b$ of integers $a$ and $b$ is divisible by $k\\in\\mathbb{Z}$ if and only if:\n",
    "\n",
    "$$\\left(a \\text{ mod } k \\right) + \\left(b \\text{ mod } k \\right) = k $$\n",
    "\n",
    "or\n",
    "\n",
    "$$\\left(a \\text{ mod } k \\right) + \\left(b \\text{ mod } k \\right) = 0. $$\n"
   ]
  },
  {
   "cell_type": "markdown",
   "metadata": {},
   "source": [
    "__Proof__.  It's been a while, so my proof writing is a bit rusty.  But I'll give it go.  \n",
    "\n",
    "Suppose that $k\\mid (a+b)$.  By the division algorithm,\n",
    "\n",
    "$$a = k\\cdot q_1 + r_1$$\n",
    "\n",
    "and\n",
    "\n",
    "$$b = k\\cdot q_2 + r_2$$\n",
    "\n",
    "for integers $q_1, q_2, r_1$ and $r_2$.  Combining these three equations, we have \n",
    "\n",
    "\\begin{align}\n",
    "a + b &= (k\\cdot q_1 + r_1) + (k\\cdot q_2 + r_2)\\\\\n",
    "         &= k(q_1+q_2) + (r_1 + r_2).\n",
    "\\end{align}\n",
    "\n",
    "Now, the right side of this equation will be divisible by $k$ only if both of its summands are divisible by $k$.  That is, if $r_1+r_2$ is a multiple of $k$, or is zero.  Since both $r_1$ and $r_2$ are at most $k-1$, their sum must be less than $2k$, implying that said sum must be divisible by $k$ only if it equals $k$ or is zero.  This proves the first part of the theorem.  \n",
    "\n",
    "The reverse implication is established by a straightforward computation.  Using the same notation as in the first part, \n",
    "\n",
    "$$r_1 + r_2 = 0$$\n",
    "$\\Rightarrow$\n",
    "$$a + b = k(q_1 + q_2) + (r_1 + r_2) = k(q_1 + q_2)$$\n",
    "$\\Rightarrow$\n",
    "$$k\\mid a+b,$$\n",
    "\n",
    "whereas\n",
    "\n",
    "$$r_1 + r_2 = k$$\n",
    "$\\Rightarrow$\n",
    "$$a + b = k(q_1 + q_2) + (r_1 + r_2) = k(q_1 + q_2) + k = k(1+q_1+q_2)$$\n",
    "$\\Rightarrow$\n",
    "$$k\\mid a+b.\\Box$$\n"
   ]
  },
  {
   "cell_type": "markdown",
   "metadata": {},
   "source": [
    "For some reason \\LaTex `$\\Box$` is showing up as a rhombus.  And `\\LaTex` is not displaying prettily.  There is an [issue](https://github.com/jupyter/nbconvert/issues/719) for the latter.  I'm not sure about the former.  Next time I suppose I should use the theorem environment.\n"
   ]
  },
  {
   "cell_type": "code",
   "execution_count": 55,
   "metadata": {},
   "outputs": [
    {
     "name": "stdout",
     "output_type": "stream",
     "text": [
      "3 + 7 is divisible by 1:\n",
      "  Computing modulo of sum:\n",
      "    Since (3+7) % 1 = 10 % 1 = 0 \n",
      "  Computing sum of modulos:\n",
      "    Since (3 % 1) + (7 % 1) = 0 + 0 = 0\n",
      "\n",
      "3 + 7 is divisible by 2:\n",
      "  Computing modulo of sum:\n",
      "    Since (3+7) % 2 = 10 % 2 = 0 \n",
      "  Computing sum of modulos:\n",
      "    Since (3 % 2) + (7 % 2) = 1 + 1 = 2\n",
      "\n",
      "3 + 7 isn't divisible by 3:\n",
      "  Computing modulo of sum:\n",
      "    Since (3+7) % 3 = 10 % 3 = 1 \n",
      "  Computing sum of modulos:\n",
      "    Since (3 % 3) + (7 % 3) = 0 + 1 = 1\n",
      "\n",
      "3 + 7 is divisible by 5:\n",
      "  Computing modulo of sum:\n",
      "    Since (3+7) % 5 = 10 % 5 = 0 \n",
      "  Computing sum of modulos:\n",
      "    Since (3 % 5) + (7 % 5) = 3 + 2 = 5\n",
      "\n",
      "3 + 7 isn't divisible by 7:\n",
      "  Computing modulo of sum:\n",
      "    Since (3+7) % 7 = 10 % 7 = 3 \n",
      "  Computing sum of modulos:\n",
      "    Since (3 % 7) + (7 % 7) = 3 + 0 = 3\n",
      "\n",
      "3 + 7 is divisible by 10:\n",
      "  Computing modulo of sum:\n",
      "    Since (3+7) % 10 = 10 % 10 = 0 \n",
      "  Computing sum of modulos:\n",
      "    Since (3 % 10) + (7 % 10) = 3 + 7 = 10\n",
      "\n",
      "3 + 7 isn't divisible by 11:\n",
      "  Computing modulo of sum:\n",
      "    Since (3+7) % 11 = 10 % 11 = 10 \n",
      "  Computing sum of modulos:\n",
      "    Since (3 % 11) + (7 % 11) = 3 + 7 = 10\n",
      "\n",
      "3 + 7 isn't divisible by 12:\n",
      "  Computing modulo of sum:\n",
      "    Since (3+7) % 12 = 10 % 12 = 10 \n",
      "  Computing sum of modulos:\n",
      "    Since (3 % 12) + (7 % 12) = 3 + 7 = 10\n",
      "\n"
     ]
    }
   ],
   "source": [
    "# Here is a small example\n",
    "\n",
    "a, b = 3, 7\n",
    "ks = [1, 2, 3, 5, 7, 10, 11, 12] \n",
    "to_be = [\"isn't\", \"is\"]\n",
    "\n",
    "for k in ks:\n",
    "    print(\"{} + {} {} divisible by {}:\".format(a, b, to_be[(a+b)%k == 0], k))\n",
    "    print(\"  Computing modulo of sum:\")\n",
    "    print(\"    Since ({}+{}) % {} = {} % {} = {} \".format(a, b, k, a+b, k, (a+b)%k))\n",
    "    print(\"  Computing sum of modulos:\")\n",
    "    print(\"    Since ({} % {}) + ({} % {}) = {} + {} = {}\".format(a, k, b, k, a%k, b%k, a%k + b%k))\n",
    "    #print(\"  Computed:\")\n",
    "    #print(\"    {}%{} + {}%{} = {}\")\n",
    "    print()\n"
   ]
  },
  {
   "cell_type": "markdown",
   "metadata": {},
   "source": [
    "We will use our theorem to solve the problem in the following way.  Recall that we need to find the maximal subset such that all pairs are _not_ divisible by $k$.  Thus, \n",
    "\n",
    "1.  we can include no pairs whose remainders sum to $k$, and\n",
    "2.  we can include no more than a single multiple of $k$.\n",
    "\n",
    "To find the maximal such subset, we can choose, for each pair of remainders summing to $k$ (ie, $1+(k-1)$, $2+(k-2)$ and so on) choose the remainder with the most corresponding elements.  Once we have checked all such pairs, we throw in one multiple of $k$ (if there is one) and call it a day.  "
   ]
  },
  {
   "cell_type": "code",
   "execution_count": 136,
   "metadata": {},
   "outputs": [
    {
     "name": "stdout",
     "output_type": "stream",
     "text": [
      "3\n"
     ]
    }
   ],
   "source": [
    "# Second attempt, which performs somewhat better, but still fails half of the test cases due to time out.\n",
    "\n",
    "import itertools\n",
    "import collections\n",
    "import math\n",
    "\n",
    "def nonDivisibleSubset(k, S):\n",
    "    S_count = 0\n",
    "    remainders = {r:[s_ for s_ in S if s_%k == r] for s in S for r in range(k)}\n",
    "    \n",
    "    for r1, r2 in zip(range(1, math.floor(k/2) + 1), range(k-1, math.ceil(k/2) - 1, -1)):\n",
    "        if r1 == r2:\n",
    "            S_count += len(remainders[r1])>0 or len(remainders[r2])>0\n",
    "        elif len(remainders[r1]) >= len(remainders[r2]):\n",
    "            S_count += len(remainders[r1])\n",
    "        else:\n",
    "            S_count += len(remainders[r2]) \n",
    "    if len(remainders[0]) > 0:\n",
    "        S_count += 1\n",
    "        \n",
    "    return S_count\n",
    "\n",
    "print(nonDivisibleSubset(k, S))"
   ]
  },
  {
   "cell_type": "markdown",
   "metadata": {},
   "source": [
    "Well, we still have perfomance issues.  Looking into the time complexity of our function (ignoring the `remainders` dictionary for now):\n",
    "\n",
    "```\n",
    "For loop:  O(k/2)\n",
    "    if:        O(1)\n",
    "    elif:      O(1)\n",
    "    else:      O(1)\n",
    "if:        O(1)\n",
    "```\n",
    "\n",
    "for a grand total of $O(k)$, which certainly seems pretty good.  Although I might be mistaken in my analysis.  I suspect that the complexity culprit is in my neat little dictionary comprehension:\n",
    "\n",
    "```python\n",
    "{r:[s_ for s_ in S if s_%k == r] for s in S for r in range(k)}\n",
    "```\n",
    "\n",
    "This is actually a relic from an intermediate version of my function, which was returning an instance of a maximal subset, not just its size."
   ]
  },
  {
   "cell_type": "code",
   "execution_count": 137,
   "metadata": {},
   "outputs": [],
   "source": [
    "# third attempt\n",
    "\n",
    "def nonDivisibleSubset(k, S):\n",
    "    S_count = 0\n",
    "    remainders = {r:0 for r in range(k)}\n",
    "    for s in S:\n",
    "        remainders[s%k] += 1\n",
    "    for r1, r2 in zip(range(1, math.floor(k/2) + 1), range(k-1, math.ceil(k/2) - 1, -1)):\n",
    "        if r1 == r2:\n",
    "            S_count += remainders[r1]>0 or remainders[r2]>0\n",
    "            \n",
    "        elif remainders[r1] >= remainders[r2]:\n",
    "            S_count += remainders[r1]\n",
    "        else:\n",
    "            S_count += remainders[r2] \n",
    "    if remainders[0] > 0:\n",
    "        S_count += 1\n",
    "    return S_count"
   ]
  },
  {
   "cell_type": "markdown",
   "metadata": {},
   "source": [
    "And that did the trick.  Hooray!"
   ]
  },
  {
   "cell_type": "code",
   "execution_count": 138,
   "metadata": {},
   "outputs": [
    {
     "name": "stdout",
     "output_type": "stream",
     "text": [
      "Test 0\n",
      "  Expected: 3\n",
      "{0: 2, 1: 1, 2: 2, 3: 1}\n",
      "  Computed: 3\n",
      "{0: 2, 1: 1, 2: 2, 3: 1}\n",
      "====================\n",
      "Test 1\n",
      "  Expected: 3\n",
      "{0: 0, 1: 3, 2: 1}\n",
      "  Computed: 3\n",
      "{0: 0, 1: 3, 2: 1}\n",
      "====================\n",
      "Test 2\n",
      "  Expected: 11\n",
      "{0: 0, 1: 2, 2: 6, 3: 0, 4: 2, 5: 2, 6: 3}\n",
      "  Computed: 11\n",
      "{0: 0, 1: 2, 2: 6, 3: 0, 4: 2, 5: 2, 6: 3}\n",
      "====================\n",
      "Test 3\n",
      "  Expected: 5\n",
      "{0: 2, 1: 3, 2: 3, 3: 2}\n",
      "  Computed: 5\n",
      "{0: 2, 1: 3, 2: 3, 3: 2}\n",
      "====================\n",
      "Failed the following tests: []\n"
     ]
    }
   ],
   "source": [
    "sets = [set([19, 10, 12, 10, 24, 25, 22]),\n",
    "        set([1, 7, 2, 4]),\n",
    "        set([278, 576, 496, 727, 410, 124, 338, 149, 209, 702, 282, 718, 771, 575, 436]),\n",
    "        set([1, 2, 3, 4, 5, 6, 7, 8, 9, 10])\n",
    "         ]\n",
    "\n",
    "ks = [4, 3, 7, 4]\n",
    "\n",
    "expected = [3, 3, 11, 5]\n",
    "\n",
    "def test(sets, ks, expected):\n",
    "    test = 0\n",
    "    failures = []\n",
    "    for S, k, (i, expected) in zip(sets, ks, enumerate(expected)):\n",
    "        test += 1\n",
    "        print(\"Test {}\".format(i))\n",
    "        print(\"  Expected:\", expected)\n",
    "        print(\"  Computed:\", nonDivisibleSubset(k, S))\n",
    "        if expected != nonDivisibleSubset(k,S):\n",
    "            print(\"Test {} failed!\".format(i))\n",
    "            failures.append(i)\n",
    "        print(\"====================\")\n",
    "    print(\"Failed the following tests: {}\".format(failures))\n",
    "           \n",
    "test(sets, ks, expected)\n"
   ]
  },
  {
   "cell_type": "code",
   "execution_count": 61,
   "metadata": {},
   "outputs": [
    {
     "data": {
      "text/plain": [
       "\u001b[0;31mInit signature:\u001b[0m \u001b[0mcollections\u001b[0m\u001b[0;34m.\u001b[0m\u001b[0mCounter\u001b[0m\u001b[0;34m(\u001b[0m\u001b[0;34m*\u001b[0m\u001b[0margs\u001b[0m\u001b[0;34m,\u001b[0m \u001b[0;34m**\u001b[0m\u001b[0mkwds\u001b[0m\u001b[0;34m)\u001b[0m\u001b[0;34m\u001b[0m\u001b[0;34m\u001b[0m\u001b[0m\n",
       "\u001b[0;31mDocstring:\u001b[0m     \n",
       "Dict subclass for counting hashable items.  Sometimes called a bag\n",
       "or multiset.  Elements are stored as dictionary keys and their counts\n",
       "are stored as dictionary values.\n",
       "\n",
       ">>> c = Counter('abcdeabcdabcaba')  # count elements from a string\n",
       "\n",
       ">>> c.most_common(3)                # three most common elements\n",
       "[('a', 5), ('b', 4), ('c', 3)]\n",
       ">>> sorted(c)                       # list all unique elements\n",
       "['a', 'b', 'c', 'd', 'e']\n",
       ">>> ''.join(sorted(c.elements()))   # list elements with repetitions\n",
       "'aaaaabbbbcccdde'\n",
       ">>> sum(c.values())                 # total of all counts\n",
       "15\n",
       "\n",
       ">>> c['a']                          # count of letter 'a'\n",
       "5\n",
       ">>> for elem in 'shazam':           # update counts from an iterable\n",
       "...     c[elem] += 1                # by adding 1 to each element's count\n",
       ">>> c['a']                          # now there are seven 'a'\n",
       "7\n",
       ">>> del c['b']                      # remove all 'b'\n",
       ">>> c['b']                          # now there are zero 'b'\n",
       "0\n",
       "\n",
       ">>> d = Counter('simsalabim')       # make another counter\n",
       ">>> c.update(d)                     # add in the second counter\n",
       ">>> c['a']                          # now there are nine 'a'\n",
       "9\n",
       "\n",
       ">>> c.clear()                       # empty the counter\n",
       ">>> c\n",
       "Counter()\n",
       "\n",
       "Note:  If a count is set to zero or reduced to zero, it will remain\n",
       "in the counter until the entry is deleted or the counter is cleared:\n",
       "\n",
       ">>> c = Counter('aaabbc')\n",
       ">>> c['b'] -= 2                     # reduce the count of 'b' by two\n",
       ">>> c.most_common()                 # 'b' is still in, but its count is zero\n",
       "[('a', 3), ('c', 1), ('b', 0)]\n",
       "\u001b[0;31mInit docstring:\u001b[0m\n",
       "Create a new, empty Counter object.  And if given, count elements\n",
       "from an input iterable.  Or, initialize the count from another mapping\n",
       "of elements to their counts.\n",
       "\n",
       ">>> c = Counter()                           # a new, empty counter\n",
       ">>> c = Counter('gallahad')                 # a new counter from an iterable\n",
       ">>> c = Counter({'a': 4, 'b': 2})           # a new counter from a mapping\n",
       ">>> c = Counter(a=4, b=2)                   # a new counter from keyword args\n",
       "\u001b[0;31mFile:\u001b[0m           ~/anaconda3/lib/python3.7/collections/__init__.py\n",
       "\u001b[0;31mType:\u001b[0m           type\n",
       "\u001b[0;31mSubclasses:\u001b[0m     \n"
      ]
     },
     "metadata": {},
     "output_type": "display_data"
    }
   ],
   "source": [
    "import collections\n",
    "collections.Counter?"
   ]
  },
  {
   "cell_type": "code",
   "execution_count": null,
   "metadata": {},
   "outputs": [],
   "source": []
  }
 ],
 "metadata": {
  "kernelspec": {
   "display_name": "Python 3",
   "language": "python",
   "name": "python3"
  },
  "language_info": {
   "codemirror_mode": {
    "name": "ipython",
    "version": 3
   },
   "file_extension": ".py",
   "mimetype": "text/x-python",
   "name": "python",
   "nbconvert_exporter": "python",
   "pygments_lexer": "ipython3",
   "version": "3.7.3"
  }
 },
 "nbformat": 4,
 "nbformat_minor": 2
}
