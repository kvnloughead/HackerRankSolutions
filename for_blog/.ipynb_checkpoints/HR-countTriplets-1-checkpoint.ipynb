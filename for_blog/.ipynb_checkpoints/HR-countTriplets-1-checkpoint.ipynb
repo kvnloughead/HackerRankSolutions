{
 "cells": [
  {
   "cell_type": "markdown",
   "metadata": {},
   "source": [
    "Here is another installment in our series on HackerRank problem's.  This time, we are looking at the 'medium' rated [Count Triplets](https://www.hackerrank.com/challenges/count-triplets-1/problem?h_l=interview&playlist_slugs%5B%5D=interview-preparation-kit&playlist_slugs%5B%5D=dictionaries-hashmaps).  This one took me some time to see through, and my writeup will be split into multiple articles.\n",
    "\n",
    "__Problem.__\n",
    "\n",
    "You are given an array and you need to find number of triplets of indices $(i, j, k)$ with $i<j<k$ such that the elements at those indices are in geometric progression for a given common ratio $r\\ge 1$."
   ]
  },
  {
   "cell_type": "markdown",
   "metadata": {},
   "source": [
    "__Solution.__"
   ]
  },
  {
   "cell_type": "markdown",
   "metadata": {},
   "source": [
    "First off:  what exactly is a geometric progression? Well, integers $a_1, a_2$ and $a_3$ are a geometric progression if \n",
    "\n",
    "$$(a_1, a_2, a_3) = \\left(c\\cdot r^i, c\\cdot r^{i+1}, c\\cdot r^{i+2}\\right)$$ \n",
    "\n",
    "for some nonnegative integer $i$ and constant $c$.  Here are a few examples:\n",
    "\n",
    "\\begin{align}\n",
    "2, 4, 8 &= 2^1, 2^2, 2^3 \\\\\n",
    "2, 10, 25 &= 2\\cdot 5^0, 2\\cdot 5^1, 2\\cdot 5^2 \\\\\n",
    "2, 2, 2 &= 2\\cdot 1^0, 2\\cdot 1^1, 2\\cdot 1^2 \\\\\n",
    "\\end{align}"
   ]
  },
  {
   "cell_type": "markdown",
   "metadata": {},
   "source": [
    "Let's start with the imports that we will need.  The `testing` module is my (rudimentary) custom testing suite.  "
   ]
  },
  {
   "cell_type": "code",
   "execution_count": 62,
   "metadata": {},
   "outputs": [],
   "source": [
    "import shelve\n",
    "import requests\n",
    "\n",
    "import itertools as it\n",
    "\n",
    "from collections import Counter\n",
    "from functools import reduce\n",
    "\n",
    "import testing\n",
    "\n",
    "import matplotlib.pyplot as plt\n",
    "%matplotlib inline"
   ]
  },
  {
   "cell_type": "markdown",
   "metadata": {},
   "source": [
    "__Attempt 1__"
   ]
  },
  {
   "cell_type": "markdown",
   "metadata": {},
   "source": [
    "My first attempt involved two functions:  one to determine whether an array (sorted) was a geometric progression by checking that the ratios of all its successive elements are all the same, and one to count how many such subarrays of length 3 there are in the given array.  The latter function works by running every combination in `itertools.combinations(array)` of length 3 through the first function.  I was not surprised to find that, while it worked for some smaller test cases, the majority failed due to timeouts.  That is a recurring theme in my experience of HackerRank."
   ]
  },
  {
   "cell_type": "code",
   "execution_count": 63,
   "metadata": {},
   "outputs": [],
   "source": [
    "def is_geometric_progression(array):\n",
    "    \"\"\"Returns if array (sorted) is a geometric progression.\"\"\"\n",
    "    return all([array[i+1]/array[i] == array[1]/array[0] for i in range(len(array)-1)])\n",
    "\n",
    "\n",
    "def count_geo_progs(array, length):\n",
    "    \"\"\"Counts number of geometrical of given length in array.\"\"\"\n",
    "    count = 0\n",
    "    for combo in it.combinations(array, length):\n",
    "        count += is_geometric_progression(combo)\n",
    "    return count\n"
   ]
  },
  {
   "cell_type": "markdown",
   "metadata": {},
   "source": [
    "Before optimizing, however, I noted that one of the small sized test cases was also failing, so some debugging was in order.  "
   ]
  },
  {
   "cell_type": "markdown",
   "metadata": {},
   "source": [
    "__Testing 1__"
   ]
  },
  {
   "cell_type": "code",
   "execution_count": 64,
   "metadata": {},
   "outputs": [],
   "source": [
    "# test cases\n",
    "\n",
    "arrays = [\n",
    "    [1,4,16,64],\n",
    "    [1,3,9,9,27,81],\n",
    "    [1,2,2,4],\n",
    "    [1,5,5,25,125]\n",
    "         ]\n",
    "\n",
    "args = [(array, 3) for array in arrays]\n",
    "\n",
    "expected = [2, 6, 2, 4]\n"
   ]
  },
  {
   "cell_type": "code",
   "execution_count": 66,
   "metadata": {},
   "outputs": [
    {
     "name": "stdout",
     "output_type": "stream",
     "text": [
      "   TESTING count_geo_progs    \n",
      "==============================\n",
      "Test 0:  count_geo_progs(([1, 4, 16, 64], 3)...)\n",
      "  Computed: 2\n",
      "  Expected: 2\n",
      "------------------------------\n",
      "Test 1:  count_geo_progs(([1, 3, 9, 9, 27, 81], 3)...)\n",
      "  Computed: 8\n",
      "  Expected: 6\n",
      "8 6\n",
      "        TEST 1 FAILED         \n",
      "------------------------------\n",
      "Test 2:  count_geo_progs(([1, 2, 2, 4], 3)...)\n",
      "  Computed: 2\n",
      "  Expected: 2\n",
      "------------------------------\n",
      "Test 3:  count_geo_progs(([1, 5, 5, 25, 125], 3)...)\n",
      "  Computed: 4\n",
      "  Expected: 4\n",
      "------------------------------\n",
      "==============================\n",
      "The following 1 test is failing:\n",
      "             [1]              \n"
     ]
    }
   ],
   "source": [
    "import testing\n",
    "testing.test(count_geo_progs, args, expected)"
   ]
  },
  {
   "cell_type": "markdown",
   "metadata": {},
   "source": [
    "__Debugging 1__\n",
    "\n",
    "The offending array was `[1, 3, 9, 9, 27, 81]`, but after a bit of thought I realized that the offender was me.  I had not read the instructions carefully enough, and was counting _all_ geometric progressions in the array.  This included two instances of `(1, 9, 81)`, which is a only a progression with $r=9$, and so should no be counted when $r=3$.  This was a straightforward fix."
   ]
  },
  {
   "cell_type": "code",
   "execution_count": 78,
   "metadata": {},
   "outputs": [],
   "source": [
    "# debugging 1\n",
    "\n",
    "def is_geometric_progression(array, r=None):\n",
    "    \"\"\"Returns if array (sorted) is a geometric progression.\"\"\"\n",
    "    if not r:\n",
    "        r = array[1]/array[0]\n",
    "    return all([array[i+1]/array[i] == r for i in range(len(array)-1)])\n",
    "\n",
    "def count_geo_progs(array, r, length):\n",
    "    \"\"\"Counts number of geometrical progressions with common ratio r\n",
    "    of given length in array.\"\"\"\n",
    "    count = 0\n",
    "    for combo in it.combinations(array, length):\n",
    "        count += is_geometric_progression(combo, r)\n",
    "    return count"
   ]
  },
  {
   "cell_type": "code",
   "execution_count": 79,
   "metadata": {},
   "outputs": [
    {
     "name": "stdout",
     "output_type": "stream",
     "text": [
      "   TESTING count_geo_progs    \n",
      "==============================\n",
      "Test 0:  count_geo_progs(([1, 4, 16, 64], 4, 3)...)\n",
      "  Computed: 2\n",
      "  Expected: 2\n",
      "------------------------------\n",
      "Test 1:  count_geo_progs(([1, 3, 9, 9, 27, 81], 3,...)\n",
      "  Computed: 6\n",
      "  Expected: 6\n",
      "------------------------------\n",
      "Test 2:  count_geo_progs(([1, 2, 2, 4], 2, 3)...)\n",
      "  Computed: 2\n",
      "  Expected: 2\n",
      "------------------------------\n",
      "Test 3:  count_geo_progs(([1, 5, 5, 25, 125], 5, 3...)\n",
      "  Computed: 4\n",
      "  Expected: 4\n",
      "------------------------------\n",
      "==============================\n",
      "The following 0 tests are failing:\n",
      "              []              \n"
     ]
    }
   ],
   "source": [
    "# updating test cases\n",
    "\n",
    "arrays = [\n",
    "    [1,4,16,64],\n",
    "    [1,3,9,9,27,81],\n",
    "    [1,2,2,4],\n",
    "    [1,5,5,25,125]\n",
    "         ]\n",
    "\n",
    "ratios = [4, 3, 2, 5]\n",
    "\n",
    "args = [(array, ratio, 3) for array, ratio in zip(arrays, ratios)]\n",
    "\n",
    "expected = [2, 6, 2, 4]\n",
    "\n",
    "testing.test(count_geo_progs, args, expected)"
   ]
  },
  {
   "cell_type": "markdown",
   "metadata": {},
   "source": [
    "So now it is working for the limited amount of small test cases that I am working with here.  But as I said, most tests on HackerRank fail due to timeout.  Tomorrow I will begin to work towards optimizing my functions."
   ]
  }
 ],
 "metadata": {
  "kernelspec": {
   "display_name": "Python 3",
   "language": "python",
   "name": "python3"
  },
  "language_info": {
   "codemirror_mode": {
    "name": "ipython",
    "version": 3
   },
   "file_extension": ".py",
   "mimetype": "text/x-python",
   "name": "python",
   "nbconvert_exporter": "python",
   "pygments_lexer": "ipython3",
   "version": "3.7.3"
  }
 },
 "nbformat": 4,
 "nbformat_minor": 2
}
