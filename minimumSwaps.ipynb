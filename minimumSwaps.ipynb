{
 "cells": [
  {
   "cell_type": "markdown",
   "metadata": {},
   "source": [
    "My first attempt at `minimumSwap` (on HackerRank) went like this:"
   ]
  },
  {
   "cell_type": "code",
   "execution_count": 1,
   "metadata": {},
   "outputs": [
    {
     "name": "stdout",
     "output_type": "stream",
     "text": [
      "(5, [1, 2, 3, 4, 5, 6, 7])\n",
      "(2, [2, 1, 3, 4])\n"
     ]
    }
   ],
   "source": [
    "def swap(idx1, idx2, array):\n",
    "    arr = list(array)\n",
    "    arr[idx1], arr[idx2] = arr[idx2], arr[idx1]\n",
    "    return arr\n",
    "\n",
    "def minimumSwaps(arr):\n",
    "    \"\"\"Returns minimum number of swaps required to sort arr.\"\"\"\n",
    "    arr = list(arr)\n",
    "    swaps = 0\n",
    "    for i, a in enumerate(arr):\n",
    "        \n",
    "        if arr[i] == i+1:\n",
    "            pass\n",
    "        \n",
    "        elif arr[i] != i+1:\n",
    "\n",
    "            swaps += 1\n",
    "            arr = swap(i, a-1, arr)\n",
    "                       \n",
    "    return swaps, arr\n",
    "        \n",
    "\n",
    "arrays = [\n",
    "    [7,1,3,2,4,5,6],\n",
    "    [4,3,1,2]\n",
    "]\n",
    "\n",
    "for array in arrays:\n",
    "    print(minimumSwaps(array))\n"
   ]
  },
  {
   "cell_type": "markdown",
   "metadata": {},
   "source": [
    "The second result is not correct:  it requires one additional swap.  How to avoid this?  Moreover, how to avoid it while still using only the _minimum_ number of swaps?  After quite a bit of thinking, the solution is actually quite simple.  Instead of making swaps such that the element at the current index gets put in its place, make them so that the current index recieves its correct element."
   ]
  },
  {
   "cell_type": "code",
   "execution_count": 4,
   "metadata": {},
   "outputs": [
    {
     "name": "stdout",
     "output_type": "stream",
     "text": [
      "(5, [1, 2, 3, 4, 5, 6, 7])\n",
      "(3, [1, 2, 3, 4])\n"
     ]
    }
   ],
   "source": [
    "def swap(i, j, array):\n",
    "    arr[i], arr[j] = arr[j], arr[i]\n",
    "    return arr\n",
    "\n",
    "def minimumSwaps(arr):\n",
    "    \"\"\"Returns minimum number of swaps required to sort arr.\"\"\"\n",
    "    swaps = 0\n",
    "    \n",
    "    for i, a in enumerate(arr):\n",
    "        \n",
    "        if arr[i] == i+1:\n",
    "            pass\n",
    "        \n",
    "        elif arr[i] != i+1:\n",
    "\n",
    "            swaps += 1\n",
    "            arr = swap(i, arr.index(i+1), arr)\n",
    "                       \n",
    "    return swaps, arr\n",
    "        \n",
    "\n",
    "arrays = [\n",
    "    [7,1,3,2,4,5,6],\n",
    "    [4,3,1,2]\n",
    "]\n",
    "\n",
    "for array in arrays:\n",
    "    print(minimumSwaps(array))"
   ]
  },
  {
   "cell_type": "markdown",
   "metadata": {},
   "source": [
    "This iteration is successful for most test cases provided by HackerRank, but fails 5 due to timeout.  I'm sure the issue is with all the calls to `arr.index` within the for loop.  We might be able to elimate these with a form of memoization.  Basically, as we iterate through the array, when we come upon a misplaced element we note its position in a dictionary.  Then when we find the element that should go there we can quickly put it in place, since dictionary lookups are cheap.  Let's try it."
   ]
  },
  {
   "cell_type": "markdown",
   "metadata": {},
   "source": [
    "$\\vdots$"
   ]
  },
  {
   "cell_type": "markdown",
   "metadata": {},
   "source": [
    "I tried something along the lines described above for a while, but unsuccessfully.   I kept running into look up issues, and having to update my memo as I went along was a pain.  I came back to it after a short break and hit one the following (successful) solution."
   ]
  },
  {
   "cell_type": "code",
   "execution_count": 39,
   "metadata": {},
   "outputs": [],
   "source": [
    "def swap(i, j, arr):\n",
    "    arr[i], arr[j] = arr[j], arr[i]\n",
    "    return arr\n",
    "\n",
    "def minimumSwaps(arr):\n",
    "    \"\"\"Returns minimum number of swaps required to sort arr.\"\"\"\n",
    "    swaps = 0\n",
    "    places = {a:i for i, a in enumerate(arr)}\n",
    "    \n",
    "    for i, a in enumerate(arr):\n",
    "        \n",
    "        if arr[i] == i+1:\n",
    "            pass\n",
    "            \n",
    "        else:\n",
    "            j = places[i+1]\n",
    "            swap(i, j, arr)\n",
    "            places[arr[j]] = j\n",
    "            swaps += 1\n",
    "        \n",
    "    return swaps"
   ]
  },
  {
   "cell_type": "markdown",
   "metadata": {},
   "source": [
    "The key insight was that I might as well populate my `places` memo at the outset (in $O(n)$ time).  Then, providing I update `places` appropriately as I go along, everything gets put in place correctly."
   ]
  }
 ],
 "metadata": {
  "kernelspec": {
   "display_name": "Python 3",
   "language": "python",
   "name": "python3"
  },
  "language_info": {
   "codemirror_mode": {
    "name": "ipython",
    "version": 3
   },
   "file_extension": ".py",
   "mimetype": "text/x-python",
   "name": "python",
   "nbconvert_exporter": "python",
   "pygments_lexer": "ipython3",
   "version": "3.7.3"
  }
 },
 "nbformat": 4,
 "nbformat_minor": 2
}
